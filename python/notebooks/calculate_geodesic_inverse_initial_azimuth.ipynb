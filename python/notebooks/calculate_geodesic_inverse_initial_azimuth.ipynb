{
 "cells": [
  {
   "cell_type": "markdown",
   "id": "4590f558-1d02-43cb-9c80-1246481ba375",
   "metadata": {},
   "source": [
    "Copyright (c) 2024-2025 Ken Barker\n",
    "\n",
    "Permission is hereby granted, free of charge, to any person obtaining a copy\n",
    "of this software and associated documentation files (the \"Software\"), to deal\n",
    "in the Software without restriction, including without limitation the rights\n",
    "to use, copy, modify, merge, publish, distribute, sublicense, and/or sell\n",
    "copies of the Software, and to permit persons to whom the Software is\n",
    "furnished to do so, subject to the following conditions:\n",
    "\n",
    "The above copyright notice and this permission notice shall be included in all\n",
    "copies or substantial portions of the Software.\n",
    "\n",
    "THE SOFTWARE IS PROVIDED \"AS IS\", WITHOUT WARRANTY OF ANY KIND, EXPRESS OR\n",
    "IMPLIED, INCLUDING BUT NOT LIMITED TO THE WARRANTIES OF MERCHANTABILITY,\n",
    "FITNESS FOR A PARTICULAR PURPOSE AND NONINFRINGEMENT. IN NO EVENT SHALL THE\n",
    "AUTHORS OR COPYRIGHT HOLDERS BE LIABLE FOR ANY CLAIM, DAMAGES OR OTHER\n",
    "LIABILITY, WHETHER IN AN ACTION OF CONTRACT, TORT OR OTHERWISE, ARISING FROM,\n",
    "OUT OF OR IN CONNECTION WITH THE SOFTWARE OR THE USE OR OTHER DEALINGS IN THE\n",
    "SOFTWARE."
   ]
  },
  {
   "cell_type": "markdown",
   "id": "3d776d15-642a-4565-87b5-067f4c714f7e",
   "metadata": {},
   "source": [
    "# Calculate Geodesic Inverse Initial Azimuth\n",
    "\n",
    "Calculate the intial azimuth of a geodesic between two positions and show the number of iterations required.\n",
    "\n",
    "This notebook compares the original version of `find_azimuth_and_aux_length`, which uses the great circle azimuth\n",
    "on the auxiliary sphere with the new version which estimates the geodesic azimuth from the longitude difference\n",
    "between the auxiliary sphere and the ellipsoid.\n",
    "\n",
    "Performs calculations and compares the results with data from Charles Karney's [Test data for geodesics](https://geographiclib.sourceforge.io/C++/doc/geodesic.html#testgeod).\n",
    "\n",
    "The contents of the data file are as follows:\n",
    "\n",
    "- 0-100000 entries randomly distributed\n",
    "- 100000-150000 entries which are nearly antipodal\n",
    "- 150000-200000 entries with short distances\n",
    "- 200000-250000 entries with one end near a pole\n",
    "- 250000-300000 entries with both ends near opposite poles\n",
    "- 300000-350000 entries which are nearly meridional\n",
    "- 350000-400000 entries which are nearly equatorial\n",
    "- 400000-450000 entries running between vertices (α1 = α2 = 90°)\n",
    "- 450000-500000 entries ending close to vertices"
   ]
  },
  {
   "cell_type": "code",
   "execution_count": null,
   "id": "afde42ac-fdaa-446d-9852-2ef3c2261e05",
   "metadata": {},
   "outputs": [],
   "source": [
    "%matplotlib inline\n",
    "import numpy as np\n",
    "import polars as pl\n",
    "import matplotlib.pyplot as plt\n",
    "from scipy import stats\n",
    "from enum import Enum\n",
    "\n",
    "from via_angle import Angle, Degrees, Radians\n",
    "from via_sphere import LatLong, MIN_VALUE, calculate_gc_distance\n",
    "from via_units import Metres\n",
    "from via_ellipsoid import Ellipsoid, find_azimuth_and_aux_length"
   ]
  },
  {
   "cell_type": "markdown",
   "id": "5adc2859-e4f2-49e2-94a1-d897d5e23d7f",
   "metadata": {},
   "source": [
    "## Read the GeodTest.dat file into a polars LazyFrame"
   ]
  },
  {
   "cell_type": "code",
   "execution_count": null,
   "id": "02dd0d0c-262f-48ce-8fd9-1f835e7e47b2",
   "metadata": {},
   "outputs": [],
   "source": [
    "# The columns of the GeodTest.dat file\n",
    "class Column(Enum):\n",
    "    latitude_1   = 0\n",
    "    longitude_1  = 1\n",
    "    azimuth_1    = 2\n",
    "    latitude_2   = 3\n",
    "    longitude_2  = 4\n",
    "    azimuth_2    = 5\n",
    "    distance_m   = 6\n",
    "    distance_deg = 7\n",
    "    m12          = 8\n",
    "    area         = 9\n",
    "\n",
    "# Select all the test data entries\n",
    "size = 500000\n",
    "pathname = 'https://sourceforge.net/projects/geographiclib/files/testdata/GeodTest.dat.gz/download'\n",
    "lf = pl.scan_csv(pathname, separator=' ', has_header=False).select(\n",
    "    ['column_1', 'column_2', 'column_3', 'column_4', 'column_5']\n",
    ").head(size).collect()\n",
    "lf.schema"
   ]
  },
  {
   "cell_type": "markdown",
   "id": "2aad9ad4-c664-4f0f-9d30-1f63703bf76b",
   "metadata": {},
   "source": [
    "### Calculate geodesic azimuths and iterations"
   ]
  },
  {
   "cell_type": "code",
   "execution_count": null,
   "id": "8ded981e-4f97-4252-9793-68bb91954bb0",
   "metadata": {},
   "outputs": [],
   "source": [
    "%%time\n",
    "delta_azimuth_org = np.empty(size)\n",
    "delta_azimuth_new = np.empty(size)\n",
    "iterations_org = np.empty(size)\n",
    "iterations_new = np.empty(size)\n",
    "\n",
    "i = 0\n",
    "for row in lf.rows():\n",
    "    # Get departure and arrival positions from lf\n",
    "    lat_1 = Angle(Degrees(row[Column.latitude_1.value]))\n",
    "    lat_2 = Angle(Degrees(row[Column.latitude_2.value]))\n",
    "    delta_long = Angle(Degrees(row[Column.longitude_2.value]))\n",
    "\n",
    "    # calculate parametric latitudes from geodetic latitudes\n",
    "    beta1 = Ellipsoid.wgs84().calculate_parametric_latitude(lat_1)\n",
    "    beta2 = Ellipsoid.wgs84().calculate_parametric_latitude(lat_2)\n",
    "    gc_length = calculate_gc_distance(beta1, beta2, delta_long)\n",
    "\n",
    "    # solve the inverse geodesic problem on the auxiliary sphere\n",
    "    azim_aux, length_aux, iters_aux = find_azimuth_and_aux_length(beta1, beta2, delta_long, gc_length, Radians(MIN_VALUE), False, Ellipsoid.wgs84())\n",
    "    delta_azimuth_org[i] = np.abs(azim_aux.to_degrees().v() - row[Column.azimuth_1.value])\n",
    "    iterations_org[i] = iters_aux\n",
    "\n",
    "    # solve the inverse geodesic problem on the auxiliary sphere, estimating the initial azimuth\n",
    "    azim_aux, length_aux, iters_aux = find_azimuth_and_aux_length(beta1, beta2, delta_long, gc_length, Radians(MIN_VALUE), True, Ellipsoid.wgs84())\n",
    "    delta_azimuth_new[i] = np.abs(azim_aux.to_degrees().v() - row[Column.azimuth_1.value])\n",
    "    iterations_new[i] = iters_aux\n",
    "    \n",
    "    i += 1"
   ]
  },
  {
   "cell_type": "code",
   "execution_count": null,
   "id": "f02625e6-49bb-4c7b-bf84-3c69f4bfd156",
   "metadata": {},
   "outputs": [],
   "source": [
    "stats.describe(delta_azimuth_org)"
   ]
  },
  {
   "cell_type": "code",
   "execution_count": null,
   "id": "cead9a25-a78c-4d9a-806d-747dd72dca07",
   "metadata": {},
   "outputs": [],
   "source": [
    "stats.describe(delta_azimuth_new)"
   ]
  },
  {
   "cell_type": "code",
   "execution_count": null,
   "id": "478e3b28-8a1b-41f7-817f-7d6f77140aef",
   "metadata": {},
   "outputs": [],
   "source": [
    "stats.describe(iterations_org)"
   ]
  },
  {
   "cell_type": "code",
   "execution_count": null,
   "id": "27a5a2e1-523e-454b-b461-b10a6e6bca25",
   "metadata": {},
   "outputs": [],
   "source": [
    "stats.describe(iterations_new)"
   ]
  },
  {
   "cell_type": "code",
   "execution_count": null,
   "id": "38bd7bde-de5b-46f8-84c5-c1e83c6563d3",
   "metadata": {},
   "outputs": [],
   "source": [
    "# Get only the random data results\n",
    "delta_azimuth_random_org = delta_azimuth_org[0:100000]\n",
    "delta_azimuth_random_new = delta_azimuth_new[0:100000]\n",
    "iterations_random_org = iterations_org[0:100000]\n",
    "iterations_random_new = iterations_new[0:100000]"
   ]
  },
  {
   "cell_type": "code",
   "execution_count": null,
   "id": "9491c71b-7b72-4f67-b596-4c5b304eda17",
   "metadata": {},
   "outputs": [],
   "source": [
    "stats.describe(delta_azimuth_random_org)"
   ]
  },
  {
   "cell_type": "code",
   "execution_count": null,
   "id": "6a5524ea-01a5-44ab-8713-991e02713621",
   "metadata": {},
   "outputs": [],
   "source": [
    "stats.describe(delta_azimuth_random_new)"
   ]
  },
  {
   "cell_type": "code",
   "execution_count": null,
   "id": "8b8efe76-57f4-459c-8d18-d60cd49729aa",
   "metadata": {},
   "outputs": [],
   "source": [
    "stats.describe(iterations_random_org)"
   ]
  },
  {
   "cell_type": "code",
   "execution_count": null,
   "id": "115b28e3-aa8a-497e-9646-21c59823cdaf",
   "metadata": {},
   "outputs": [],
   "source": [
    "stats.describe(iterations_random_new)"
   ]
  },
  {
   "cell_type": "code",
   "execution_count": null,
   "id": "56833fa4-2db7-4d00-b53e-5c3197b87a1e",
   "metadata": {},
   "outputs": [],
   "source": [
    "fig, axes = plt.subplots(2, 2, sharey=True)\n",
    "\n",
    "axes[0,0].hist(iterations_org, bins=np.arange(8), align='left', color='#808080')\n",
    "axes[0,0].set_ylabel('Original Algorithm')\n",
    "\n",
    "axes[0,1].hist(iterations_random_org, bins=np.arange(8), align='left', color='#808080')\n",
    "\n",
    "axes[1,0].hist(iterations_new, bins=np.arange(8), align='left', color='#000080')\n",
    "axes[1,0].set_ylabel('New Algorithm')\n",
    "axes[1,0].set_xlabel('Iterations - All Samples')\n",
    "\n",
    "axes[1,1].hist(iterations_random_new, bins=np.arange(8), align='left', color='#000080')\n",
    "axes[1,1].set_xlabel('Iterations - Random Samples')\n",
    "\n",
    "# plt.savefig('../../docs/images/initial_azimuth_iterations.svg')"
   ]
  },
  {
   "cell_type": "markdown",
   "id": "c27d9cbe-73c4-4a94-84ac-4ce5ba30328b",
   "metadata": {},
   "source": [
    "The graphs above show that the new algorithm, estimating the geodesic azimuth, converges quicker\n",
    "(i.e. in less iterations) than the original algorithm."
   ]
  }
 ],
 "metadata": {
  "kernelspec": {
   "display_name": "dev",
   "language": "python",
   "name": "dev"
  },
  "language_info": {
   "codemirror_mode": {
    "name": "ipython",
    "version": 3
   },
   "file_extension": ".py",
   "mimetype": "text/x-python",
   "name": "python",
   "nbconvert_exporter": "python",
   "pygments_lexer": "ipython3",
   "version": "3.13.1"
  }
 },
 "nbformat": 4,
 "nbformat_minor": 5
}
