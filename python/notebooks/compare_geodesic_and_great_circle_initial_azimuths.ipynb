{
 "cells": [
  {
   "cell_type": "markdown",
   "id": "4590f558-1d02-43cb-9c80-1246481ba375",
   "metadata": {},
   "source": [
    "Copyright (c) 2024-2025 Ken Barker\n",
    "\n",
    "Permission is hereby granted, free of charge, to any person obtaining a copy\n",
    "of this software and associated documentation files (the \"Software\"), to deal\n",
    "in the Software without restriction, including without limitation the rights\n",
    "to use, copy, modify, merge, publish, distribute, sublicense, and/or sell\n",
    "copies of the Software, and to permit persons to whom the Software is\n",
    "furnished to do so, subject to the following conditions:\n",
    "\n",
    "The above copyright notice and this permission notice shall be included in all\n",
    "copies or substantial portions of the Software.\n",
    "\n",
    "THE SOFTWARE IS PROVIDED \"AS IS\", WITHOUT WARRANTY OF ANY KIND, EXPRESS OR\n",
    "IMPLIED, INCLUDING BUT NOT LIMITED TO THE WARRANTIES OF MERCHANTABILITY,\n",
    "FITNESS FOR A PARTICULAR PURPOSE AND NONINFRINGEMENT. IN NO EVENT SHALL THE\n",
    "AUTHORS OR COPYRIGHT HOLDERS BE LIABLE FOR ANY CLAIM, DAMAGES OR OTHER\n",
    "LIABILITY, WHETHER IN AN ACTION OF CONTRACT, TORT OR OTHERWISE, ARISING FROM,\n",
    "OUT OF OR IN CONNECTION WITH THE SOFTWARE OR THE USE OR OTHER DEALINGS IN THE\n",
    "SOFTWARE."
   ]
  },
  {
   "cell_type": "markdown",
   "id": "3d776d15-642a-4565-87b5-067f4c714f7e",
   "metadata": {},
   "source": [
    "# Compare Geodesic and Great Circle Initial Azimuths\n",
    "\n",
    "Compare the intial azimuth of geodesic paths to great circles.  \n",
    "It calculates great circle intial azimuths using geodetic and parametric coordinates.\n",
    "\n",
    "Performs calculations and compares the results with data from Charles Karney's [Test data for geodesics](https://geographiclib.sourceforge.io/C++/doc/geodesic.html#testgeod).\n",
    "\n",
    "The contents of the data file are as follows:\n",
    "\n",
    "- 0-100000 entries randomly distributed\n",
    "- 100000-150000 entries which are nearly antipodal\n",
    "- 150000-200000 entries with short distances\n",
    "- 200000-250000 entries with one end near a pole\n",
    "- 250000-300000 entries with both ends near opposite poles\n",
    "- 300000-350000 entries which are nearly meridional\n",
    "- 350000-400000 entries which are nearly equatorial\n",
    "- 400000-450000 entries running between vertices (α1 = α2 = 90°)\n",
    "- 450000-500000 entries ending close to vertices"
   ]
  },
  {
   "cell_type": "code",
   "execution_count": null,
   "id": "afde42ac-fdaa-446d-9852-2ef3c2261e05",
   "metadata": {},
   "outputs": [],
   "source": [
    "import numpy as np\n",
    "import polars as pl\n",
    "from scipy import stats\n",
    "from enum import Enum\n",
    "\n",
    "from via_angle import Angle, Degrees\n",
    "from via_sphere import calculate_gc_azimuth\n",
    "from via_units import Metres\n",
    "from via_ellipsoid import Ellipsoid"
   ]
  },
  {
   "cell_type": "markdown",
   "id": "4cdca454-8d75-4240-872c-06a8680312ab",
   "metadata": {},
   "source": [
    "## Read the GeodTest.dat file into a polars LazyFrame"
   ]
  },
  {
   "cell_type": "code",
   "execution_count": null,
   "id": "02dd0d0c-262f-48ce-8fd9-1f835e7e47b2",
   "metadata": {},
   "outputs": [],
   "source": [
    "# The colums of the GeodTest.dat file\n",
    "class Column(Enum):\n",
    "    latitude_1   = 0\n",
    "    longitude_1  = 1\n",
    "    azimuth_1    = 2\n",
    "    latitude_2   = 3\n",
    "    longitude_2  = 4\n",
    "    azimuth_2    = 5\n",
    "    distance_m   = 6\n",
    "    distance_deg = 7\n",
    "    m12          = 8\n",
    "    area         = 9\n",
    "\n",
    "# Read the geodesic test data file into a polars LazyFrame: lf\n",
    "# Select the random test data entries\n",
    "size = 100000\n",
    "pathname = 'https://sourceforge.net/projects/geographiclib/files/testdata/GeodTest.dat.gz/download'\n",
    "lf = pl.scan_csv(pathname, separator=' ', has_header=False).select(\n",
    "    ['column_1', 'column_2', 'column_3', 'column_4', 'column_5']\n",
    ").head(size).collect()\n",
    "lf.schema"
   ]
  },
  {
   "cell_type": "markdown",
   "id": "0eb4bd42-e9ec-4fd0-9bfa-1b59401240f3",
   "metadata": {},
   "source": [
    "### Calculate great circle initial azimuths"
   ]
  },
  {
   "cell_type": "code",
   "execution_count": null,
   "id": "604aa1eb-1482-4e83-b019-9ac98daea118",
   "metadata": {},
   "outputs": [],
   "source": [
    "%%time\n",
    "delta_gc = np.empty(size)\n",
    "delta_aux = np.empty(size)\n",
    "\n",
    "i = 0\n",
    "for row in lf.iter_rows():\n",
    "    # calculate the great circle initial azimuth\n",
    "    lat_1 = Angle(Degrees(row[Column.latitude_1.value]))\n",
    "    lat_2 = Angle(Degrees(row[Column.latitude_2.value]))\n",
    "    delta_long = Angle(Degrees(row[Column.longitude_2.value]))\n",
    "    azim_gc = calculate_gc_azimuth(lat_1, lat_2, delta_long).to_degrees().v()\n",
    "    delta_gc[i] = np.abs(azim_gc - row[Column.azimuth_1.value])\n",
    "    \n",
    "    # calculate the auxillary sphere great circle initial azimuth\n",
    "    beta1 = Ellipsoid.wgs84().calculate_parametric_latitude(lat_1)\n",
    "    beta2 = Ellipsoid.wgs84().calculate_parametric_latitude(lat_2)\n",
    "    azim_aux = calculate_gc_azimuth(beta1, beta2, delta_long).to_degrees().v()\n",
    "    delta_aux[i] = np.abs(azim_aux - row[Column.azimuth_1.value])\n",
    "    \n",
    "    i += 1"
   ]
  },
  {
   "cell_type": "code",
   "execution_count": null,
   "id": "3aa3ef6e-896e-4866-bd67-5f26c82dadea",
   "metadata": {},
   "outputs": [],
   "source": [
    "stats.describe(delta_gc)"
   ]
  },
  {
   "cell_type": "code",
   "execution_count": null,
   "id": "885fe510-49c6-4ff6-a92d-b776c5e0def3",
   "metadata": {},
   "outputs": [],
   "source": [
    "stats.describe(delta_aux)"
   ]
  },
  {
   "cell_type": "markdown",
   "id": "69b779b9-425a-4255-b302-5ff2599b3d85",
   "metadata": {},
   "source": [
    "## Conclusion\n",
    "\n",
    "The initial azimuth of a great circle on an auxiliary sphere is slightly closer to the initial azimuth of geodesic\n",
    "than great circle initial azimuth using Karney's \"random\" test data."
   ]
  }
 ],
 "metadata": {
  "kernelspec": {
   "display_name": "dev",
   "language": "python",
   "name": "dev"
  },
  "language_info": {
   "codemirror_mode": {
    "name": "ipython",
    "version": 3
   },
   "file_extension": ".py",
   "mimetype": "text/x-python",
   "name": "python",
   "nbconvert_exporter": "python",
   "pygments_lexer": "ipython3",
   "version": "3.13.1"
  }
 },
 "nbformat": 4,
 "nbformat_minor": 5
}
