{
 "cells": [
  {
   "cell_type": "markdown",
   "id": "4590f558-1d02-43cb-9c80-1246481ba375",
   "metadata": {},
   "source": [
    "Copyright (c) 2025 Ken Barker\n",
    "\n",
    "Permission is hereby granted, free of charge, to any person obtaining a copy\n",
    "of this software and associated documentation files (the \"Software\"), to deal\n",
    "in the Software without restriction, including without limitation the rights\n",
    "to use, copy, modify, merge, publish, distribute, sublicense, and/or sell\n",
    "copies of the Software, and to permit persons to whom the Software is\n",
    "furnished to do so, subject to the following conditions:\n",
    "\n",
    "The above copyright notice and this permission notice shall be included in all\n",
    "copies or substantial portions of the Software.\n",
    "\n",
    "THE SOFTWARE IS PROVIDED \"AS IS\", WITHOUT WARRANTY OF ANY KIND, EXPRESS OR\n",
    "IMPLIED, INCLUDING BUT NOT LIMITED TO THE WARRANTIES OF MERCHANTABILITY,\n",
    "FITNESS FOR A PARTICULAR PURPOSE AND NONINFRINGEMENT. IN NO EVENT SHALL THE\n",
    "AUTHORS OR COPYRIGHT HOLDERS BE LIABLE FOR ANY CLAIM, DAMAGES OR OTHER\n",
    "LIABILITY, WHETHER IN AN ACTION OF CONTRACT, TORT OR OTHERWISE, ARISING FROM,\n",
    "OUT OF OR IN CONNECTION WITH THE SOFTWARE OR THE USE OR OTHER DEALINGS IN THE\n",
    "SOFTWARE."
   ]
  },
  {
   "cell_type": "markdown",
   "id": "3d776d15-642a-4565-87b5-067f4c714f7e",
   "metadata": {},
   "source": [
    "# Compare via-ellipsoid Inverse Distances and Azimuths\n",
    "\n",
    "Compare the distances and azimuths calculated by the via-ellipsoid `calculate_azimuths_arc_length` and `convert_radians_to_metres` at standard (double) precision with the reference values from Charles Karney's [Test data for geodesics](https://geographiclib.sourceforge.io/C++/doc/geodesic.html#testgeod).\n",
    "\n",
    "The values are produced by the via-ellipsoid_test program built with `-DCPP_ACCURACY_TEST=ON` with the `OUTPUT_VIA_ELLIPSOID_VALUES` macro set.\n",
    "The results are piped into a file.\n",
    "Note: the first line of the file must be removed before it is copied into the `GEODTEST_DIR` directory."
   ]
  },
  {
   "cell_type": "code",
   "execution_count": 1,
   "id": "afde42ac-fdaa-446d-9852-2ef3c2261e05",
   "metadata": {},
   "outputs": [],
   "source": [
    "import numpy as np\n",
    "import polars as pl\n",
    "from scipy import stats\n",
    "from enum import Enum\n",
    "from os import environ, path\n",
    "\n",
    "# The colums of the GeodTest.dat file\n",
    "class Column(Enum):\n",
    "    latitude_1   = 0\n",
    "    longitude_1  = 1\n",
    "    azimuth_1    = 2\n",
    "    latitude_2   = 3\n",
    "    longitude_2  = 4\n",
    "    azimuth_2    = 5\n",
    "    distance_m   = 6\n",
    "    distance_deg = 7\n",
    "    m12          = 8\n",
    "    area         = 9\n",
    "\n",
    "# The location of the files\n",
    "file_path = environ.get('GEODTEST_DIR')"
   ]
  },
  {
   "cell_type": "markdown",
   "id": "4cdca454-8d75-4240-872c-06a8680312ab",
   "metadata": {},
   "source": [
    "## Read the GeodTest.dat file into a polars LazyFrame"
   ]
  },
  {
   "cell_type": "code",
   "execution_count": 2,
   "id": "02dd0d0c-262f-48ce-8fd9-1f835e7e47b2",
   "metadata": {},
   "outputs": [
    {
     "data": {
      "text/plain": [
       "Schema([('column_1', Float64),\n",
       "        ('column_2', Int64),\n",
       "        ('column_3', Float64),\n",
       "        ('column_4', Float64),\n",
       "        ('column_5', Float64),\n",
       "        ('column_6', Float64),\n",
       "        ('column_7', Float64)])"
      ]
     },
     "execution_count": 2,
     "metadata": {},
     "output_type": "execute_result"
    }
   ],
   "source": [
    "# Read the geodesic test data file into a polars LazyFrame: lf\n",
    "# Select all the data entries\n",
    "size = 500000\n",
    "pathname = path.join(file_path, 'GeodTest.dat.gz')\n",
    "ref_lf = pl.scan_csv(pathname, separator=' ', has_header=False).select(\n",
    "    ['column_1', 'column_2', 'column_3', 'column_4', 'column_5', 'column_6', 'column_7']\n",
    ").collect()\n",
    "ref_lf.schema"
   ]
  },
  {
   "cell_type": "markdown",
   "id": "1ca206c7-8d28-48b4-bd88-9e985dcfbadb",
   "metadata": {},
   "source": [
    "## Read the via-ellipsoid output file into a polars LazyFrame"
   ]
  },
  {
   "cell_type": "code",
   "execution_count": 3,
   "id": "5d33f4bf-c2b1-4976-a572-64cd740fffbe",
   "metadata": {},
   "outputs": [
    {
     "data": {
      "text/plain": [
       "Schema([('column_1', Float64),\n",
       "        ('column_2', Int64),\n",
       "        ('column_3', Float64),\n",
       "        ('column_4', Float64),\n",
       "        ('column_5', Float64),\n",
       "        ('column_6', Float64),\n",
       "        ('column_7', Float64)])"
      ]
     },
     "execution_count": 3,
     "metadata": {},
     "output_type": "execute_result"
    }
   ],
   "source": [
    "pathname = path.join(file_path, 'via_ellipsoid_data_gcc_v15_1_1.dat.gz')\n",
    "gcc_lf = pl.scan_csv(pathname, separator=' ', has_header=False).select(\n",
    "    ['column_1', 'column_2', 'column_3', 'column_4', 'column_5', 'column_6', 'column_7']\n",
    ").collect()\n",
    "gcc_lf.schema"
   ]
  },
  {
   "cell_type": "code",
   "execution_count": 4,
   "id": "e9e2dd73-4d7f-4c86-8f84-b6251efcf085",
   "metadata": {},
   "outputs": [
    {
     "data": {
      "text/plain": [
       "False"
      ]
     },
     "execution_count": 4,
     "metadata": {},
     "output_type": "execute_result"
    }
   ],
   "source": [
    "ref_lf.equals(gcc_lf)"
   ]
  },
  {
   "cell_type": "markdown",
   "id": "ec668cff-df0b-46fe-b4e6-f52a1ac20d24",
   "metadata": {},
   "source": [
    "### Distance"
   ]
  },
  {
   "cell_type": "code",
   "execution_count": 5,
   "id": "ec05b88d-d33d-41c3-80fb-558ea580a30c",
   "metadata": {},
   "outputs": [],
   "source": [
    "delta_ref_gcc_s12 = np.subtract(gcc_lf[Column.distance_m.value], ref_lf[Column.distance_m.value])"
   ]
  },
  {
   "cell_type": "code",
   "execution_count": 6,
   "id": "d4dcd268-79c5-42af-98d5-ed8f0fe49d9b",
   "metadata": {},
   "outputs": [
    {
     "data": {
      "text/plain": [
       "0.0"
      ]
     },
     "execution_count": 6,
     "metadata": {},
     "output_type": "execute_result"
    }
   ],
   "source": [
    "delta_ref_gcc_s12.max()"
   ]
  },
  {
   "cell_type": "code",
   "execution_count": 7,
   "id": "e1408ca8-26df-48ca-853a-e93bf1bc0257",
   "metadata": {},
   "outputs": [
    {
     "data": {
      "text/plain": [
       "-1.862645149230957e-09"
      ]
     },
     "execution_count": 7,
     "metadata": {},
     "output_type": "execute_result"
    }
   ],
   "source": [
    "delta_ref_gcc_s12.min()"
   ]
  },
  {
   "cell_type": "markdown",
   "id": "701e9d02-8116-4dd4-aba5-3ec2e80dd3dd",
   "metadata": {},
   "source": [
    "### Azimuths"
   ]
  },
  {
   "cell_type": "code",
   "execution_count": 8,
   "id": "885fe510-49c6-4ff6-a92d-b776c5e0def3",
   "metadata": {},
   "outputs": [
    {
     "data": {
      "text/plain": [
       "0.0"
      ]
     },
     "execution_count": 8,
     "metadata": {},
     "output_type": "execute_result"
    }
   ],
   "source": [
    "delta_ref_gcc_azi1 = np.abs(np.subtract(gcc_lf[Column.azimuth_1.value], ref_lf[Column.azimuth_1.value]))\n",
    "delta_ref_gcc_azi1.max()"
   ]
  },
  {
   "cell_type": "code",
   "execution_count": 9,
   "id": "28bc8807-989b-4cbc-9851-6457180bfb7f",
   "metadata": {},
   "outputs": [
    {
     "data": {
      "text/plain": [
       "1.862645149230957e-09"
      ]
     },
     "execution_count": 9,
     "metadata": {},
     "output_type": "execute_result"
    }
   ],
   "source": [
    "delta_ref_gcc_azi2 = np.abs(np.subtract(gcc_lf[Column.azimuth_2.value], ref_lf[Column.azimuth_2.value]))\n",
    "delta_ref_gcc_azi2.max()"
   ]
  }
 ],
 "metadata": {
  "kernelspec": {
   "display_name": "Python [conda env:base] *",
   "language": "python",
   "name": "conda-base-py"
  },
  "language_info": {
   "codemirror_mode": {
    "name": "ipython",
    "version": 3
   },
   "file_extension": ".py",
   "mimetype": "text/x-python",
   "name": "python",
   "nbconvert_exporter": "python",
   "pygments_lexer": "ipython3",
   "version": "3.12.2"
  }
 },
 "nbformat": 4,
 "nbformat_minor": 5
}
