{
 "cells": [
  {
   "cell_type": "markdown",
   "id": "4590f558-1d02-43cb-9c80-1246481ba375",
   "metadata": {},
   "source": [
    "Copyright (c) 2025 Ken Barker\n",
    "\n",
    "Permission is hereby granted, free of charge, to any person obtaining a copy\n",
    "of this software and associated documentation files (the \"Software\"), to deal\n",
    "in the Software without restriction, including without limitation the rights\n",
    "to use, copy, modify, merge, publish, distribute, sublicense, and/or sell\n",
    "copies of the Software, and to permit persons to whom the Software is\n",
    "furnished to do so, subject to the following conditions:\n",
    "\n",
    "The above copyright notice and this permission notice shall be included in all\n",
    "copies or substantial portions of the Software.\n",
    "\n",
    "THE SOFTWARE IS PROVIDED \"AS IS\", WITHOUT WARRANTY OF ANY KIND, EXPRESS OR\n",
    "IMPLIED, INCLUDING BUT NOT LIMITED TO THE WARRANTIES OF MERCHANTABILITY,\n",
    "FITNESS FOR A PARTICULAR PURPOSE AND NONINFRINGEMENT. IN NO EVENT SHALL THE\n",
    "AUTHORS OR COPYRIGHT HOLDERS BE LIABLE FOR ANY CLAIM, DAMAGES OR OTHER\n",
    "LIABILITY, WHETHER IN AN ACTION OF CONTRACT, TORT OR OTHERWISE, ARISING FROM,\n",
    "OUT OF OR IN CONNECTION WITH THE SOFTWARE OR THE USE OR OTHER DEALINGS IN THE\n",
    "SOFTWARE."
   ]
  },
  {
   "cell_type": "markdown",
   "id": "3d776d15-642a-4565-87b5-067f4c714f7e",
   "metadata": {},
   "source": [
    "# Calculate Geodesic Inverse Accuracy Effect on Iterations\n",
    "\n",
    "Calculate geodesics between positions at different levels of accuracy and show the number of iterations required.\n",
    "\n",
    "This notebook compares calls of `aux_sphere_azimuth_length` with different tolerance values\n",
    "to determine the effect of reducing accuracy on the number of iterations required to calculate a geodesic\n",
    "\n",
    "Performs calculations and compares the results with data from Charles Karney's [Test data for geodesics](https://geographiclib.sourceforge.io/C++/doc/geodesic.html#testgeod).\n",
    "\n",
    "The contents of the data file are as follows:\n",
    "\n",
    "- 0-100000 entries randomly distributed\n",
    "- 100000-150000 entries which are nearly antipodal\n",
    "- 150000-200000 entries with short distances\n",
    "- 200000-250000 entries with one end near a pole\n",
    "- 250000-300000 entries with both ends near opposite poles\n",
    "- 300000-350000 entries which are nearly meridional\n",
    "- 350000-400000 entries which are nearly equatorial\n",
    "- 400000-450000 entries running between vertices (α1 = α2 = 90°)\n",
    "- 450000-500000 entries ending close to vertices\n",
    "\n",
    "This file uses the first 100000 random entries."
   ]
  },
  {
   "cell_type": "code",
   "execution_count": null,
   "id": "afde42ac-fdaa-446d-9852-2ef3c2261e05",
   "metadata": {},
   "outputs": [],
   "source": [
    "%matplotlib inline\n",
    "import numpy as np\n",
    "import polars as pl\n",
    "import matplotlib.pyplot as plt\n",
    "from scipy import stats\n",
    "from enum import Enum\n",
    "\n",
    "from via_angle import Angle, Degrees, Radians\n",
    "from via_sphere import LatLong, MIN_VALUE\n",
    "from via_units import Metres\n",
    "from via_ellipsoid import Ellipsoid, aux_sphere_azimuth_length, convert_radians_to_metres"
   ]
  },
  {
   "cell_type": "markdown",
   "id": "5adc2859-e4f2-49e2-94a1-d897d5e23d7f",
   "metadata": {},
   "source": [
    "## Read the GeodTest.dat file into a polars LazyFrame"
   ]
  },
  {
   "cell_type": "code",
   "execution_count": null,
   "id": "02dd0d0c-262f-48ce-8fd9-1f835e7e47b2",
   "metadata": {},
   "outputs": [],
   "source": [
    "# The columns of the GeodTest.dat file\n",
    "class Column(Enum):\n",
    "    latitude_1   = 0\n",
    "    longitude_1  = 1\n",
    "    azimuth_1    = 2\n",
    "    latitude_2   = 3\n",
    "    longitude_2  = 4\n",
    "    azimuth_2    = 5\n",
    "    distance_m   = 6\n",
    "    distance_deg = 7\n",
    "    m12          = 8\n",
    "    area         = 9\n",
    "\n",
    "# Read the geodesic test data file into a polars LazyFrame: lf\n",
    "# Select the random test data entries\n",
    "size = 100000\n",
    "pathname = 'https://sourceforge.net/projects/geographiclib/files/testdata/GeodTest.dat.gz/download'\n",
    "lf = pl.scan_csv(pathname, separator=' ', has_header=False).select(\n",
    "    ['column_1', 'column_2', 'column_3', 'column_4', 'column_5', 'column_7']\n",
    ").head(size).collect()\n",
    "lf.schema"
   ]
  },
  {
   "cell_type": "markdown",
   "id": "2aad9ad4-c664-4f0f-9d30-1f63703bf76b",
   "metadata": {},
   "source": [
    "### Calculate geodesic azimuths, distances and iterations for different tolerances"
   ]
  },
  {
   "cell_type": "code",
   "execution_count": null,
   "id": "8ded981e-4f97-4252-9793-68bb91954bb0",
   "metadata": {},
   "outputs": [],
   "source": [
    "%%time\n",
    "delta_azimuth_default = np.empty(size)\n",
    "delta_length_default = np.empty(size)\n",
    "iterations_default = np.empty(size)\n",
    "\n",
    "# Caculate the tolerance in Radians as the half the accuracy divided by the major axis length\n",
    "tolerance_1mm = Radians(5e-4 / Ellipsoid.wgs84().a().v())\n",
    "delta_azimuth_1mm = np.empty(size)\n",
    "iterations_1mm = np.empty(size)\n",
    "delta_length_1mm = np.empty(size)\n",
    "\n",
    "tolerance_1m = Radians(0.5 / Ellipsoid.wgs84().a().v())\n",
    "delta_azimuth_1m = np.empty(size)\n",
    "iterations_1m = np.empty(size)\n",
    "delta_length_1m = np.empty(size)\n",
    "\n",
    "i = 0\n",
    "for row in lf.rows():\n",
    "    # Get departure and arrival positions from lf\n",
    "    lat_1 = Angle(Degrees(row[Column.latitude_1.value]))\n",
    "    lat_2 = Angle(Degrees(row[Column.latitude_2.value]))\n",
    "    delta_long = Angle(Degrees(row[Column.longitude_2.value]))\n",
    "\n",
    "    # calculate parametric latitudes from geodetic latitudes\n",
    "    beta1 = Ellipsoid.wgs84().calculate_parametric_latitude(lat_1)\n",
    "    beta2 = Ellipsoid.wgs84().calculate_parametric_latitude(lat_2)\n",
    "\n",
    "    # solve the inverse geodesic problem on the auxiliary sphere with default tolerance\n",
    "    azim_aux, length_aux, iters_aux = aux_sphere_azimuth_length(beta1, beta2, delta_long, Radians(MIN_VALUE), Ellipsoid.wgs84())\n",
    "    delta_azimuth_default[i] = np.abs(azim_aux.to_degrees().v() - row[Column.azimuth_1.value])\n",
    "    iterations_default[i] = iters_aux\n",
    "    length_m = convert_radians_to_metres(beta1, azim_aux, length_aux, Ellipsoid.wgs84());\n",
    "    delta_length_default[i] = np.abs(length_m.v() - row[5])\n",
    "\n",
    "    # solve the inverse geodesic problem on the auxiliary sphere with 0.5 mm tolerance\n",
    "    azim_aux, length_aux, iters_aux = aux_sphere_azimuth_length(beta1, beta2, delta_long, tolerance_1mm, Ellipsoid.wgs84())\n",
    "    delta_azimuth_1mm[i] = np.abs(azim_aux.to_degrees().v() - row[Column.azimuth_1.value])\n",
    "    iterations_1mm[i] = iters_aux\n",
    "    length_m = convert_radians_to_metres(beta1, azim_aux, length_aux, Ellipsoid.wgs84());\n",
    "    delta_length_1mm[i] = np.abs(length_m.v() - row[5])\n",
    "\n",
    "    # solve the inverse geodesic problem on the auxiliary sphere with 0.5 m tolerance\n",
    "    azim_aux, length_aux, iters_aux = aux_sphere_azimuth_length(beta1, beta2, delta_long, tolerance_1m, Ellipsoid.wgs84())\n",
    "    delta_azimuth_1m[i] = np.abs(azim_aux.to_degrees().v() - row[Column.azimuth_1.value])\n",
    "    iterations_1m[i] = iters_aux\n",
    "    length_m = convert_radians_to_metres(beta1, azim_aux, length_aux, Ellipsoid.wgs84());\n",
    "    delta_length_1m[i] = np.abs(length_m.v() - row[5])\n",
    "    \n",
    "    i += 1"
   ]
  },
  {
   "cell_type": "code",
   "execution_count": null,
   "id": "f02625e6-49bb-4c7b-bf84-3c69f4bfd156",
   "metadata": {},
   "outputs": [],
   "source": [
    "stats.describe(delta_azimuth_default)"
   ]
  },
  {
   "cell_type": "code",
   "execution_count": null,
   "id": "cead9a25-a78c-4d9a-806d-747dd72dca07",
   "metadata": {},
   "outputs": [],
   "source": [
    "stats.describe(delta_azimuth_1mm)"
   ]
  },
  {
   "cell_type": "code",
   "execution_count": null,
   "id": "c200d33e-5633-405e-a672-d243676e99b9",
   "metadata": {},
   "outputs": [],
   "source": [
    "stats.describe(delta_azimuth_1m)"
   ]
  },
  {
   "cell_type": "code",
   "execution_count": null,
   "id": "81d406dd-243f-47b4-b08f-f8698c41aa22",
   "metadata": {},
   "outputs": [],
   "source": [
    "stats.describe(delta_length_default)"
   ]
  },
  {
   "cell_type": "code",
   "execution_count": null,
   "id": "cd56956a-207d-46ab-b937-995adb9aab5e",
   "metadata": {},
   "outputs": [],
   "source": [
    "stats.describe(delta_length_1mm)"
   ]
  },
  {
   "cell_type": "code",
   "execution_count": null,
   "id": "bc16da82-1304-439d-a36f-2f62b6ac06eb",
   "metadata": {},
   "outputs": [],
   "source": [
    "stats.describe(delta_length_1m)"
   ]
  },
  {
   "cell_type": "code",
   "execution_count": null,
   "id": "478e3b28-8a1b-41f7-817f-7d6f77140aef",
   "metadata": {},
   "outputs": [],
   "source": [
    "stats.describe(iterations_default)"
   ]
  },
  {
   "cell_type": "code",
   "execution_count": null,
   "id": "27a5a2e1-523e-454b-b461-b10a6e6bca25",
   "metadata": {},
   "outputs": [],
   "source": [
    "stats.describe(iterations_1mm)"
   ]
  },
  {
   "cell_type": "code",
   "execution_count": null,
   "id": "086ac864-351f-479b-a214-86e9c5a0f875",
   "metadata": {},
   "outputs": [],
   "source": [
    "stats.describe(iterations_1m)"
   ]
  },
  {
   "cell_type": "code",
   "execution_count": null,
   "id": "56833fa4-2db7-4d00-b53e-5c3197b87a1e",
   "metadata": {},
   "outputs": [],
   "source": [
    "fig, axes = plt.subplots(3, 1, sharey=True)\n",
    "\n",
    "axes[0].hist(iterations_default, bins=np.arange(6), align='left', color='#808080')\n",
    "axes[0].set_ylabel('Default Tolerance')\n",
    "\n",
    "axes[1].hist(iterations_1mm, bins=np.arange(6), align='left', color='#000080')\n",
    "axes[1].set_ylabel('1mm Tolerance')\n",
    "\n",
    "axes[2].hist(iterations_1m, bins=np.arange(6), align='left', color='#800000')\n",
    "axes[2].set_xlabel('Iterations - Random Samples')\n",
    "axes[2].set_ylabel('1m Tolerance')\n",
    "\n",
    "# plt.savefig('../../docs/images/geodesic_inverse_accuracy_iterations.svg')"
   ]
  },
  {
   "cell_type": "markdown",
   "id": "51fb4024-b97e-4392-83f2-67f7a766301d",
   "metadata": {},
   "source": [
    "## Findings\n",
    "\n",
    "Reducing the tolerance to 1mm, reduces the average number of iterations by nearly one\n",
    "with a maximum length error of just over 1cm.\n",
    "\n",
    "Further reducing the tolerance to 1m, barely reduced the average number of iterations\n",
    "but the maximum length error increased to over 26m.\n",
    "\n",
    "## Conclusion\n",
    "\n",
    "A tolerance of 1mm may be suitable for navigation."
   ]
  }
 ],
 "metadata": {
  "kernelspec": {
   "display_name": "dev",
   "language": "python",
   "name": "dev"
  },
  "language_info": {
   "codemirror_mode": {
    "name": "ipython",
    "version": 3
   },
   "file_extension": ".py",
   "mimetype": "text/x-python",
   "name": "python",
   "nbconvert_exporter": "python",
   "pygments_lexer": "ipython3",
   "version": "3.13.1"
  }
 },
 "nbformat": 4,
 "nbformat_minor": 5
}
